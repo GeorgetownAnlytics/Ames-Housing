{
 "cells": [
  {
   "cell_type": "code",
   "execution_count": 1,
   "metadata": {},
   "outputs": [
    {
     "ename": "ModuleNotFoundError",
     "evalue": "No module named 'seaborn'",
     "output_type": "error",
     "traceback": [
      "\u001b[1;31m---------------------------------------------------------------------------\u001b[0m",
      "\u001b[1;31mModuleNotFoundError\u001b[0m                       Traceback (most recent call last)",
      "Cell \u001b[1;32mIn[1], line 6\u001b[0m\n\u001b[0;32m      4\u001b[0m \u001b[38;5;28;01mimport\u001b[39;00m \u001b[38;5;21;01mnumpy\u001b[39;00m \u001b[38;5;28;01mas\u001b[39;00m \u001b[38;5;21;01mnp\u001b[39;00m\n\u001b[0;32m      5\u001b[0m \u001b[38;5;28;01mimport\u001b[39;00m \u001b[38;5;21;01mmatplotlib\u001b[39;00m\u001b[38;5;21;01m.\u001b[39;00m\u001b[38;5;21;01mpyplot\u001b[39;00m \u001b[38;5;28;01mas\u001b[39;00m \u001b[38;5;21;01mplt\u001b[39;00m\n\u001b[1;32m----> 6\u001b[0m \u001b[38;5;28;01mimport\u001b[39;00m \u001b[38;5;21;01mseaborn\u001b[39;00m \u001b[38;5;28;01mas\u001b[39;00m \u001b[38;5;21;01msns\u001b[39;00m\n\u001b[0;32m      7\u001b[0m \u001b[38;5;28;01mfrom\u001b[39;00m \u001b[38;5;21;01msklearn\u001b[39;00m\u001b[38;5;21;01m.\u001b[39;00m\u001b[38;5;21;01mmodel_selection\u001b[39;00m \u001b[38;5;28;01mimport\u001b[39;00m GridSearchCV\n\u001b[0;32m      8\u001b[0m \u001b[38;5;28;01mfrom\u001b[39;00m \u001b[38;5;21;01msklearn\u001b[39;00m\u001b[38;5;21;01m.\u001b[39;00m\u001b[38;5;21;01mmodel_selection\u001b[39;00m \u001b[38;5;28;01mimport\u001b[39;00m train_test_split\n",
      "\u001b[1;31mModuleNotFoundError\u001b[0m: No module named 'seaborn'"
     ]
    }
   ],
   "source": [
    "import warnings\n",
    "warnings.filterwarnings(\"ignore\")\n",
    "import pandas as pd\n",
    "import numpy as np\n",
    "import matplotlib.pyplot as plt\n",
    "import seaborn as sns\n",
    "from sklearn.model_selection import GridSearchCV\n",
    "from sklearn.model_selection import train_test_split\n",
    "from sklearn.feature_selection import VarianceThreshold\n",
    "from sklearn.tree import DecisionTreeRegressor, DecisionTreeClassifier\n",
    "from sklearn.metrics import roc_auc_score\n",
    "from sklearn import preprocessing\n",
    "from sklearn.linear_model import ElasticNet\n",
    "from sklearn.linear_model import Lasso\n",
    "from sklearn import ensemble, tree, linear_model\n",
    "from sklearn.model_selection import train_test_split, cross_val_score\n",
    "from sklearn.metrics import r2_score, mean_squared_error\n",
    "from sklearn.utils import shuffle\n",
    "import xgboost as xgb\n",
    "import lightgbm as lgb\n",
    "from sklearn.model_selection import KFold, cross_val_score, train_test_split\n",
    "from sklearn.preprocessing import RobustScaler\n",
    "from sklearn.linear_model import LinearRegression\n",
    "from sklearn.linear_model import Ridge\n",
    "from sklearn.svm import SVR\n",
    "from sklearn.kernel_ridge import KernelRidge\n",
    "from sklearn.ensemble import GradientBoostingRegressor\n",
    "np.random.seed(453111) # set the random seed"
   ]
  },
  {
   "cell_type": "code",
   "execution_count": null,
   "metadata": {},
   "outputs": [
    {
     "data": {
      "text/html": [
       "<div>\n",
       "<style scoped>\n",
       "    .dataframe tbody tr th:only-of-type {\n",
       "        vertical-align: middle;\n",
       "    }\n",
       "\n",
       "    .dataframe tbody tr th {\n",
       "        vertical-align: top;\n",
       "    }\n",
       "\n",
       "    .dataframe thead th {\n",
       "        text-align: right;\n",
       "    }\n",
       "</style>\n",
       "<table border=\"1\" class=\"dataframe\">\n",
       "  <thead>\n",
       "    <tr style=\"text-align: right;\">\n",
       "      <th></th>\n",
       "      <th>PID</th>\n",
       "      <th>Latitude</th>\n",
       "      <th>Longitude</th>\n",
       "    </tr>\n",
       "  </thead>\n",
       "  <tbody>\n",
       "    <tr>\n",
       "      <th>0</th>\n",
       "      <td>526301100</td>\n",
       "      <td>42.054035</td>\n",
       "      <td>-93.619754</td>\n",
       "    </tr>\n",
       "    <tr>\n",
       "      <th>1</th>\n",
       "      <td>526350040</td>\n",
       "      <td>42.053014</td>\n",
       "      <td>-93.619756</td>\n",
       "    </tr>\n",
       "    <tr>\n",
       "      <th>2</th>\n",
       "      <td>526351010</td>\n",
       "      <td>42.052659</td>\n",
       "      <td>-93.619387</td>\n",
       "    </tr>\n",
       "    <tr>\n",
       "      <th>3</th>\n",
       "      <td>526353030</td>\n",
       "      <td>42.051245</td>\n",
       "      <td>-93.617320</td>\n",
       "    </tr>\n",
       "    <tr>\n",
       "      <th>4</th>\n",
       "      <td>527105010</td>\n",
       "      <td>42.060899</td>\n",
       "      <td>-93.638933</td>\n",
       "    </tr>\n",
       "    <tr>\n",
       "      <th>...</th>\n",
       "      <td>...</td>\n",
       "      <td>...</td>\n",
       "      <td>...</td>\n",
       "    </tr>\n",
       "    <tr>\n",
       "      <th>2925</th>\n",
       "      <td>923275080</td>\n",
       "      <td>41.988964</td>\n",
       "      <td>-93.604776</td>\n",
       "    </tr>\n",
       "    <tr>\n",
       "      <th>2926</th>\n",
       "      <td>923276100</td>\n",
       "      <td>41.988314</td>\n",
       "      <td>-93.602680</td>\n",
       "    </tr>\n",
       "    <tr>\n",
       "      <th>2927</th>\n",
       "      <td>923400125</td>\n",
       "      <td>41.986510</td>\n",
       "      <td>-93.606847</td>\n",
       "    </tr>\n",
       "    <tr>\n",
       "      <th>2928</th>\n",
       "      <td>924100070</td>\n",
       "      <td>41.990921</td>\n",
       "      <td>-93.600190</td>\n",
       "    </tr>\n",
       "    <tr>\n",
       "      <th>2929</th>\n",
       "      <td>924151050</td>\n",
       "      <td>41.989265</td>\n",
       "      <td>-93.599996</td>\n",
       "    </tr>\n",
       "  </tbody>\n",
       "</table>\n",
       "<p>2930 rows × 3 columns</p>\n",
       "</div>"
      ],
      "text/plain": [
       "            PID   Latitude  Longitude\n",
       "0     526301100  42.054035 -93.619754\n",
       "1     526350040  42.053014 -93.619756\n",
       "2     526351010  42.052659 -93.619387\n",
       "3     526353030  42.051245 -93.617320\n",
       "4     527105010  42.060899 -93.638933\n",
       "...         ...        ...        ...\n",
       "2925  923275080  41.988964 -93.604776\n",
       "2926  923276100  41.988314 -93.602680\n",
       "2927  923400125  41.986510 -93.606847\n",
       "2928  924100070  41.990921 -93.600190\n",
       "2929  924151050  41.989265 -93.599996\n",
       "\n",
       "[2930 rows x 3 columns]"
      ]
     },
     "execution_count": 215,
     "metadata": {},
     "output_type": "execute_result"
    }
   ],
   "source": [
    "test_id =pd.read_csv(\"../data/test_id.csv\", header=None)\n",
    "Ames = pd.read_csv(\"../data/Ames_data.csv\")\n",
    "Ames_Location = Ames[[\"PID\", \"Latitude\", \"Longitude\"]]\n",
    "Ames_Location\n"
   ]
  },
  {
   "cell_type": "code",
   "execution_count": null,
   "metadata": {},
   "outputs": [
    {
     "data": {
      "text/plain": [
       "Index(['PID', 'MS_SubClass', 'MS_Zoning', 'Lot_Frontage', 'Lot_Area', 'Street',\n",
       "       'Alley', 'Lot_Shape', 'Land_Contour', 'Utilities', 'Lot_Config',\n",
       "       'Land_Slope', 'Neighborhood', 'Condition_1', 'Condition_2', 'Bldg_Type',\n",
       "       'House_Style', 'Overall_Qual', 'Overall_Cond', 'Year_Built',\n",
       "       'Year_Remod_Add', 'Roof_Style', 'Roof_Matl', 'Exterior_1st',\n",
       "       'Exterior_2nd', 'Mas_Vnr_Type', 'Mas_Vnr_Area', 'Exter_Qual',\n",
       "       'Exter_Cond', 'Foundation', 'Bsmt_Qual', 'Bsmt_Cond', 'Bsmt_Exposure',\n",
       "       'BsmtFin_Type_1', 'BsmtFin_SF_1', 'BsmtFin_Type_2', 'BsmtFin_SF_2',\n",
       "       'Bsmt_Unf_SF', 'Total_Bsmt_SF', 'Heating', 'Heating_QC', 'Central_Air',\n",
       "       'Electrical', 'First_Flr_SF', 'Second_Flr_SF', 'Low_Qual_Fin_SF',\n",
       "       'Gr_Liv_Area', 'Bsmt_Full_Bath', 'Bsmt_Half_Bath', 'Full_Bath',\n",
       "       'Half_Bath', 'Bedroom_AbvGr', 'Kitchen_AbvGr', 'Kitchen_Qual',\n",
       "       'TotRms_AbvGrd', 'Functional', 'Fireplaces', 'Fireplace_Qu',\n",
       "       'Garage_Type', 'Garage_Yr_Blt', 'Garage_Finish', 'Garage_Cars',\n",
       "       'Garage_Area', 'Garage_Qual', 'Garage_Cond', 'Paved_Drive',\n",
       "       'Wood_Deck_SF', 'Open_Porch_SF', 'Enclosed_Porch', 'Three_season_porch',\n",
       "       'Screen_Porch', 'Pool_Area', 'Pool_QC', 'Fence', 'Misc_Feature',\n",
       "       'Misc_Val', 'Mo_Sold', 'Year_Sold', 'Sale_Type', 'Sale_Condition',\n",
       "       'Longitude', 'Latitude', 'Sale_Price'],\n",
       "      dtype='object')"
      ]
     },
     "execution_count": 217,
     "metadata": {},
     "output_type": "execute_result"
    }
   ],
   "source": [
    "# see column names\n",
    "Ames.columns"
   ]
  },
  {
   "cell_type": "code",
   "execution_count": null,
   "metadata": {},
   "outputs": [
    {
     "ename": "AttributeError",
     "evalue": "'DataFrame' object has no attribute 'column'",
     "output_type": "error",
     "traceback": [
      "\u001b[1;31m---------------------------------------------------------------------------\u001b[0m",
      "\u001b[1;31mAttributeError\u001b[0m                            Traceback (most recent call last)",
      "\u001b[1;32m~\\AppData\\Local\\Temp\\ipykernel_58944\\3543006938.py\u001b[0m in \u001b[0;36m?\u001b[1;34m()\u001b[0m\n\u001b[0;32m      1\u001b[0m \u001b[0mAmes\u001b[0m\u001b[1;33m.\u001b[0m\u001b[0mdrop\u001b[0m\u001b[1;33m(\u001b[0m\u001b[1;33m[\u001b[0m\u001b[1;34m'Garage_Yr_Blt'\u001b[0m\u001b[1;33m,\u001b[0m\u001b[1;34m\"Condition_2\"\u001b[0m\u001b[1;33m,\u001b[0m\u001b[1;34m\"Utilities\"\u001b[0m\u001b[1;33m,\u001b[0m\u001b[1;34m\"Roof_Matl\"\u001b[0m\u001b[1;33m,\u001b[0m\u001b[1;34m\"Latitude\"\u001b[0m\u001b[1;33m,\u001b[0m \u001b[1;34m\"Longitude\"\u001b[0m\u001b[1;33m]\u001b[0m\u001b[1;33m,\u001b[0m \u001b[0maxis\u001b[0m\u001b[1;33m=\u001b[0m\u001b[1;36m1\u001b[0m\u001b[1;33m,\u001b[0m \u001b[0minplace\u001b[0m\u001b[1;33m=\u001b[0m\u001b[1;32mTrue\u001b[0m\u001b[1;33m)\u001b[0m\u001b[1;33m\u001b[0m\u001b[1;33m\u001b[0m\u001b[0m\n\u001b[0;32m      2\u001b[0m \u001b[0mAmes\u001b[0m\u001b[1;33m.\u001b[0m\u001b[0mdropna\u001b[0m\u001b[1;33m(\u001b[0m\u001b[0minplace\u001b[0m\u001b[1;33m=\u001b[0m\u001b[1;32mTrue\u001b[0m\u001b[1;33m)\u001b[0m\u001b[1;33m\u001b[0m\u001b[1;33m\u001b[0m\u001b[0m\n\u001b[0;32m      3\u001b[0m \u001b[0mAmes\u001b[0m\u001b[1;33m.\u001b[0m\u001b[0mhead\u001b[0m\u001b[1;33m(\u001b[0m\u001b[1;33m)\u001b[0m\u001b[1;33m\u001b[0m\u001b[1;33m\u001b[0m\u001b[0m\n\u001b[1;32m----> 4\u001b[1;33m \u001b[0mAmes\u001b[0m\u001b[1;33m.\u001b[0m\u001b[0mcolumn\u001b[0m\u001b[1;33m\u001b[0m\u001b[1;33m\u001b[0m\u001b[0m\n\u001b[0m",
      "\u001b[1;32mc:\\Program Files\\Python311\\Lib\\site-packages\\pandas\\core\\generic.py\u001b[0m in \u001b[0;36m?\u001b[1;34m(self, name)\u001b[0m\n\u001b[0;32m   6200\u001b[0m             \u001b[1;32mand\u001b[0m \u001b[0mname\u001b[0m \u001b[1;32mnot\u001b[0m \u001b[1;32min\u001b[0m \u001b[0mself\u001b[0m\u001b[1;33m.\u001b[0m\u001b[0m_accessors\u001b[0m\u001b[1;33m\u001b[0m\u001b[1;33m\u001b[0m\u001b[0m\n\u001b[0;32m   6201\u001b[0m             \u001b[1;32mand\u001b[0m \u001b[0mself\u001b[0m\u001b[1;33m.\u001b[0m\u001b[0m_info_axis\u001b[0m\u001b[1;33m.\u001b[0m\u001b[0m_can_hold_identifiers_and_holds_name\u001b[0m\u001b[1;33m(\u001b[0m\u001b[0mname\u001b[0m\u001b[1;33m)\u001b[0m\u001b[1;33m\u001b[0m\u001b[1;33m\u001b[0m\u001b[0m\n\u001b[0;32m   6202\u001b[0m         ):\n\u001b[0;32m   6203\u001b[0m             \u001b[1;32mreturn\u001b[0m \u001b[0mself\u001b[0m\u001b[1;33m[\u001b[0m\u001b[0mname\u001b[0m\u001b[1;33m]\u001b[0m\u001b[1;33m\u001b[0m\u001b[1;33m\u001b[0m\u001b[0m\n\u001b[1;32m-> 6204\u001b[1;33m         \u001b[1;32mreturn\u001b[0m \u001b[0mobject\u001b[0m\u001b[1;33m.\u001b[0m\u001b[0m__getattribute__\u001b[0m\u001b[1;33m(\u001b[0m\u001b[0mself\u001b[0m\u001b[1;33m,\u001b[0m \u001b[0mname\u001b[0m\u001b[1;33m)\u001b[0m\u001b[1;33m\u001b[0m\u001b[1;33m\u001b[0m\u001b[0m\n\u001b[0m",
      "\u001b[1;31mAttributeError\u001b[0m: 'DataFrame' object has no attribute 'column'"
     ]
    }
   ],
   "source": [
    "Ames.drop(['Garage_Yr_Blt',\"Condition_2\",\"Utilities\",\"Roof_Matl\",\"Latitude\", \"Longitude\"], axis=1, inplace=True)\n",
    "Ames.dropna(inplace=True)\n",
    "Ames.head()\n"
   ]
  },
  {
   "cell_type": "code",
   "execution_count": null,
   "metadata": {},
   "outputs": [],
   "source": [
    "categorical = [var for var in Ames.columns if Ames[var].dtype=='O']\n",
    "numerical = [var for var in Ames.columns if Ames[var].dtype!='O']\n",
    "ordinal=[\"Overall_Qual\", \"Overall_Cond\", \"Exter_Qual\", \"Exter_Cond\",\"Bsmt_Qual\",\"Bsmt_Cond\", \"Heating_QC\",\"Kitchen_Qual\",\"Fireplace_Qu\",\"Garage_Qual\",\"Garage_Cond\",\n",
    "        \"Pool_QC\",\"Lot_Shape\",\"Land_Slope\",\"Bsmt_Exposure\",\"BsmtFin_Type_1\",\"BsmtFin_Type_2\",\"Electrical\",\"Functional\",\n",
    "    \"Paved_Drive\",\"Fence\"]\n",
    "nominal =[col for col in categorical if col not in ordinal]\n",
    "out=Ames.Gr_Liv_Area.sort_values(ascending=False)[:3].index\n",
    "Ames.drop(out, axis=0, inplace=True)\n",
    "out=Ames.Total_Bsmt_SF.sort_values(ascending=False)[:3].index\n",
    "Ames.drop(out, axis=0, inplace=True)\n",
    "\n",
    "discrete = []\n",
    "continous=[]\n",
    "for var in numerical:\n",
    "    if len(Ames[var].unique())<15:\n",
    "        discrete.append(var)\n",
    "    else:\n",
    "        continous.append(var)\n",
    "discrete.append(\"Year_Built\")\n",
    "discrete.append(\"Year_Remod_Add\")\n",
    "discrete.remove(\"BsmtFin_SF_1\")\n",
    "continous.remove(\"Year_Built\")\n",
    "continous.remove(\"Year_Remod_Add\")\n",
    "continous.append(\"BsmtFin_SF_1\")"
   ]
  },
  {
   "cell_type": "code",
   "execution_count": null,
   "metadata": {},
   "outputs": [],
   "source": [
    "Ames.replace({\"Bsmt_Cond\" : {\"No_Basement\" : 0, \"Poor\" : 1, \"Fair\" : 2, \"Typical\": 3, \"Good\" : 4, \"Excellent\" : 5},\n",
    "                    \"Bsmt_Exposure\" : {\"No_Basement\":0,\"No\" : 1, \"Mn\" : 2, \"Av\": 3, \"Gd\" : 4},\n",
    "                    \"BsmtFin_Type_1\" : {\"No_Basement\" : 0, \"Unf\" : 1, \"LwQ\": 2, \"Rec\" : 3, \"BLQ\" : 4, \n",
    "                                        \"ALQ\" : 5, \"GLQ\" : 6},\n",
    "                    \"BsmtFin_Type_2\" : {\"No_Basement\" : 0, \"Unf\" : 1, \"LwQ\": 2, \"Rec\" : 3, \"BLQ\" : 4, \n",
    "                                        \"ALQ\" : 5, \"GLQ\" : 6},\n",
    "                    \"Alley\": {\"No_Alley_Access\":0, \"Gravel\":1, \"Paved\":2},\n",
    "                    \"Street\": {\"Grvl\":0, \"Pave\":1},\n",
    "                    \"Central_Air\":{\"Y\":1, \"N\":0}, \n",
    "                    \"Land_Contour\": {\"Bnk\":0,\"Lvl\":1,\"HLS\":2, \"Low\":3},\n",
    "                    \"Bldg_Type\":{\"OneFam\":0,\"Duplex\":1,\"TwnhsE\":2,\"Twnhs\":3,\"TwoFmCon\":4},\n",
    "                    \"Bsmt_Qual\" : {\"No_Basement\" : 0, \"Poor\" : 1, \"Fair\" : 2, \"Typical\": 3, \"Good\" : 4, \"Excellent\" : 5},\n",
    "                    \"Exter_Cond\" : {\"Poor\" : 1, \"Fair\" : 2, \"Typical\": 3, \"Good\": 4, \"Excellent\" : 5},\n",
    "                    \"Exter_Qual\" : {\"Poor\" : 1, \"Fair\" : 2, \"Typical\": 3, \"Good\": 4, \"Excellent\" : 5},\n",
    "                    \"Fireplace_Qu\" : {\"No_Fireplace\" : 0, \"Poor\" : 1, \"Fair\" : 2, \"Typical\" : 3, \"Good\" : 4, \"Excellent\" : 5},\n",
    "                    \"Functional\" : {\"Sal\" : 1, \"Sev\" : 2, \"Maj2\" : 3, \"Maj1\" : 4, \"Mod\": 5, \n",
    "                                    \"Min2\" : 6, \"Min1\" : 7, \"Typ\" : 8},\n",
    "                                            \"Garage_Cond\" : {\"No\" : 0, \"Po\" : 1, \"Fa\" : 2, \"TA\" : 3, \"Gd\" : 4, \"Ex\" : 5},\n",
    "                    \"Garage_Qual\" : {\"No_Garage\" : 0, \"Poor\" : 1, \"Fair\" : 2, \"Typical\" : 3, \"Good\" : 4, \"Excellent\" : 5},\n",
    "                    \"Heating_QC\" : {\"Poor\" : 1, \"Fair\" : 2, \"Typical\": 3, \"Good\": 4, \"Excellent\" : 5},\n",
    "                    \"Garage_Finish\":{\"No_Garage\":0, \"Unf\":1, \"RFn\":2, \"Fin\":3},\n",
    "                    \"Kitchen_Qual\" : {\"Poor\" : 1, \"Fair\" : 2, \"Typical\": 3, \"Good\": 4, \"Excellent\" : 5},\n",
    "                    \"Land_Slope\" : {\"Sev\" : 1, \"Mod\" : 2, \"Gtl\" : 3},\n",
    "                    \"Lot_Shape\" : {\"Irregular\" : 1, \"Moderately_Irregular\" : 2, \"Slightly_Irregular\" : 3, \"Regular\" : 4},\n",
    "                    \"Paved_Drive\" : {\"Dirt_Gravel\" : 0, \"Paved\" : 1, \"Partial_Pavement\" : 2},\n",
    "                    \"Pool_QC\" : {\"No_Pool\" : 0, \"Fair\" : 1, \"Typical\" : 2, \"Good\" : 3, \"Excellent\" : 4},\n",
    "                    \"Overall_Qual\":{\"Very_Excellent\": 10, \"Excellent\":9,\"Very_Good\":8, \"Good\":7, \"Above_Average\":6, \"Average\": 5, \"Below_Average\":4, \"Fair\": 3,\"Poor\":2, \"Very_Poor\":1},\n",
    "                    \"Overall_Cond\" :{\"Very_Excellent\": 10, \"Excellent\":9,\"Very_Good\":8, \"Good\":7, \"Above_Average\":6, \"Average\": 5, \"Below_Average\":4, \"Fair\": 3,\"Poor\":2, \"Very_Poor\":1},\n",
    "                    \"Electrical \": {\"Unknown\": 0,\"SBrkr \": 1,\"FuseA\": 2, \"FuseF\": 3, \"FuseP\": 4,\"Mix\": 5 },\n",
    "                    \"Fence\":{\"No_Fence\":0, \"Minimum_Wood_Wire\":1,\"Good_Wood\":2,\"Minimum_Privacy\":3,\"Good_Privacy\":4},\n",
    "                    \"Garage_Cond\" : {\"No_Garage\" : 0, \"Poor\" : 1, \"Fair\" : 2, \"Typical\" : 3, \"Good\" : 4, \"Excellent\" : 5},\n",
    "                    }, inplace=True)\n",
    "\n",
    "Ames[\"Electrical\"].replace({\"Unknown\": 0,\"SBrkr\": 1,\"FuseA\": 2, \"FuseF\": 3, \"FuseP\": 4,\"Mix\": 5 }, inplace=True)"
   ]
  },
  {
   "cell_type": "code",
   "execution_count": null,
   "metadata": {},
   "outputs": [],
   "source": [
    "Age_range = Ames['Year_Built'].max() - Ames['Year_Built'].min()\n",
    "min_value = int(np.floor(Ames['Year_Built'].min()))\n",
    "max_value = int(np.ceil(Ames['Year_Built'].max()))\n",
    "\n",
    "# let's round the bin width\n",
    "inter_value = int(np.round(Age_range/9))\n",
    "\n",
    "intervals = [i for i in range(min_value, max_value+inter_value, inter_value)]\n",
    "labels=[]\n",
    "for i in range(1, len(intervals)):\n",
    "    labels.append(i)"
   ]
  },
  {
   "cell_type": "code",
   "execution_count": null,
   "metadata": {},
   "outputs": [],
   "source": [
    "Ames['Year_Built'] = pd.cut(x = Ames['Year_Built'], bins=intervals, labels=labels, include_lowest=True)\n",
    "Ames['Year_Built']=Ames['Year_Built'].astype('int64', copy=False,errors=\"ignore\")\n"
   ]
  },
  {
   "cell_type": "code",
   "execution_count": null,
   "metadata": {},
   "outputs": [],
   "source": [
    "Age_range = Ames['Year_Remod_Add'].max() - Ames['Year_Remod_Add'].min()\n",
    "min_value = int(np.floor(Ames['Year_Remod_Add'].min()))\n",
    "max_value = int(np.ceil(Ames['Year_Remod_Add'].max()))"
   ]
  },
  {
   "cell_type": "code",
   "execution_count": null,
   "metadata": {},
   "outputs": [],
   "source": [
    "# let's round the bin width\n",
    "inter_value = int(np.round(Age_range/5))\n",
    "\n",
    "intervals = [i for i in range(min_value, max_value+inter_value, inter_value)]\n",
    "labels=[]\n",
    "for i in range(1, len(intervals)):\n",
    "    labels.append(i)\n"
   ]
  },
  {
   "cell_type": "code",
   "execution_count": null,
   "metadata": {},
   "outputs": [],
   "source": [
    "Ames['Year_Remod_Add'] = pd.cut(x = Ames['Year_Remod_Add'], bins=intervals, labels=labels, include_lowest=True)\n",
    "Ames['Year_Remod_Add']=Ames['Year_Remod_Add'].astype('int64', copy=False,errors=\"ignore\")\n"
   ]
  },
  {
   "cell_type": "code",
   "execution_count": null,
   "metadata": {},
   "outputs": [],
   "source": [
    "# MS_Subclass\n",
    "top_5 = [x for x in Ames['MS_SubClass'].value_counts().sort_values(ascending=False).head(5).index]\n",
    "for label in top_5:\n",
    "    Ames[label] = np.where(Ames['MS_SubClass']==label, 1, 0)\n",
    "\n",
    "Ames.drop(\"MS_SubClass\", axis=1, inplace=True)\n",
    "nominal.remove(\"MS_SubClass\")\n"
   ]
  },
  {
   "cell_type": "code",
   "execution_count": null,
   "metadata": {},
   "outputs": [],
   "source": [
    "# MS_Zoning\n",
    "top_3 = [x for x in Ames['MS_Zoning'].value_counts().sort_values(ascending=False).head(3).index]\n",
    "for label in top_3:\n",
    "    Ames[label] = np.where(Ames['MS_Zoning']==label, 1, 0)\n",
    "\n",
    "Ames.drop(\"MS_Zoning\", axis=1, inplace=True)\n",
    "nominal.remove(\"MS_Zoning\")\n"
   ]
  },
  {
   "cell_type": "code",
   "execution_count": null,
   "metadata": {},
   "outputs": [],
   "source": [
    "# Lot_Config\n",
    "top_3 = [x for x in Ames['Lot_Config'].value_counts().sort_values(ascending=False).head(3).index]\n",
    "for label in top_3:\n",
    "    Ames[label] = np.where(Ames['Lot_Config']==label, 1, 0)\n",
    "\n",
    "Ames.drop(\"Lot_Config\", axis=1, inplace=True)\n",
    "\n",
    "nominal.remove(\"Lot_Config\")"
   ]
  },
  {
   "cell_type": "code",
   "execution_count": null,
   "metadata": {},
   "outputs": [],
   "source": [
    "# Neighborhood \n",
    "top_8 = [x for x in Ames['Neighborhood'].value_counts().sort_values(ascending=False).head(8).index]\n",
    "for label in top_8:\n",
    "    Ames[label] = np.where(Ames['Neighborhood']==label, 1, 0)\n",
    "\n",
    "Ames.drop(\"Neighborhood\", axis=1, inplace=True)\n",
    "nominal.remove(\"Neighborhood\")"
   ]
  },
  {
   "cell_type": "code",
   "execution_count": null,
   "metadata": {},
   "outputs": [],
   "source": [
    "# Condition_1\n",
    "top_3 = [x for x in Ames['Condition_1'].value_counts().sort_values(ascending=False).head(3).index]\n",
    "for label in top_3:\n",
    "    Ames[label] = np.where(Ames['Condition_1']==label, 1, 0)\n",
    "\n",
    "Ames.drop(\"Condition_1\", axis=1, inplace=True)\n",
    "nominal.remove(\"Condition_1\")\n"
   ]
  },
  {
   "cell_type": "code",
   "execution_count": null,
   "metadata": {},
   "outputs": [],
   "source": [
    "# House_Style \n",
    "top_3 = [x for x in Ames['House_Style'].value_counts().sort_values(ascending=False).head(3).index]\n",
    "for label in top_3:\n",
    "    Ames[label] = np.where(Ames['House_Style']==label, 1, 0)\n",
    "\n",
    "Ames.drop(\"House_Style\", axis=1, inplace=True)\n",
    "nominal.remove(\"House_Style\")"
   ]
  },
  {
   "cell_type": "code",
   "execution_count": null,
   "metadata": {},
   "outputs": [],
   "source": [
    "# Roof_Style\n",
    "top_2 = [x for x in Ames['Roof_Style'].value_counts().sort_values(ascending=False).head(2).index]\n",
    "for label in top_2:\n",
    "    Ames[label] = np.where(Ames['Roof_Style']==label, 1, 0)\n",
    "\n",
    "Ames.drop(\"Roof_Style\", axis=1, inplace=True)\n",
    "nominal.remove(\"Roof_Style\")"
   ]
  },
  {
   "cell_type": "code",
   "execution_count": null,
   "metadata": {},
   "outputs": [],
   "source": [
    "# Exterior_1st \n",
    "top_5 = [x for x in Ames['Exterior_1st'].value_counts().sort_values(ascending=False).head(5).index]\n",
    "for label in top_5:\n",
    "    Ames[label] = np.where(Ames['Exterior_1st']==label, 1, 0)\n",
    "\n",
    "Ames.drop(\"Exterior_1st\", axis=1, inplace=True)\n",
    "nominal.remove(\"Exterior_1st\")"
   ]
  },
  {
   "cell_type": "code",
   "execution_count": null,
   "metadata": {},
   "outputs": [],
   "source": [
    "# Exterior_2nd \n",
    "top_5 = [x for x in Ames['Exterior_2nd'].value_counts().sort_values(ascending=False).head(5).index]\n",
    "for label in top_5:\n",
    "    Ames[label] = np.where(Ames['Exterior_2nd']==label, 1, 0)\n",
    "\n",
    "Ames.drop(\"Exterior_2nd\", axis=1, inplace=True)\n",
    "nominal.remove(\"Exterior_2nd\")"
   ]
  },
  {
   "cell_type": "code",
   "execution_count": null,
   "metadata": {},
   "outputs": [],
   "source": [
    "# Mas_Vnr_Type\n",
    "top_3 = [x for x in Ames['Mas_Vnr_Type'].value_counts().sort_values(ascending=False).head(3).index]\n",
    "for label in top_3:\n",
    "    Ames[label] = np.where(Ames['Mas_Vnr_Type']==label, 1, 0)\n",
    "\n",
    "Ames.drop(\"Mas_Vnr_Type\", axis=1, inplace=True)\n",
    "nominal.remove(\"Mas_Vnr_Type\")"
   ]
  },
  {
   "cell_type": "code",
   "execution_count": null,
   "metadata": {},
   "outputs": [],
   "source": [
    "# Foundation\n",
    "top_3 = [x for x in Ames['Foundation'].value_counts().sort_values(ascending=False).head(3).index]\n",
    "for label in top_3:\n",
    "    Ames[label] = np.where(Ames['Foundation']==label, 1, 0)\n",
    "\n",
    "Ames.drop(\"Foundation\", axis=1, inplace=True)\n",
    "nominal.remove(\"Foundation\")"
   ]
  },
  {
   "cell_type": "code",
   "execution_count": null,
   "metadata": {},
   "outputs": [],
   "source": [
    "# Heating\n",
    "top_2 = [x for x in Ames['Heating'].value_counts().sort_values(ascending=False).head(2).index]\n",
    "for label in top_2:\n",
    "    Ames[label] = np.where(Ames['Heating']==label, 1, 0)\n",
    "\n",
    "Ames.drop(\"Heating\", axis=1, inplace=True)\n",
    "nominal.remove(\"Heating\")"
   ]
  },
  {
   "cell_type": "code",
   "execution_count": null,
   "metadata": {},
   "outputs": [],
   "source": [
    "# Garage_Type\n",
    "top_5 = [x for x in Ames['Garage_Type'].value_counts().sort_values(ascending=False).head(5).index]\n",
    "for label in top_5:\n",
    "    Ames[label] = np.where(Ames['Garage_Type']==label, 1, 0)\n",
    "\n",
    "Ames.drop(\"Garage_Type\", axis=1, inplace=True)\n",
    "nominal.remove(\"Garage_Type\")"
   ]
  },
  {
   "cell_type": "code",
   "execution_count": null,
   "metadata": {},
   "outputs": [],
   "source": [
    "# Misc_Feature\n",
    "top_2 = [x for x in Ames['Misc_Feature'].value_counts().sort_values(ascending=False).head(2).index]\n",
    "for label in top_2:\n",
    "    Ames[label] = np.where(Ames['Misc_Feature']==label, 1, 0)\n",
    "\n",
    "Ames.drop(\"Misc_Feature\", axis=1, inplace=True)\n",
    "nominal.remove(\"Misc_Feature\")"
   ]
  },
  {
   "cell_type": "code",
   "execution_count": null,
   "metadata": {},
   "outputs": [],
   "source": [
    "# Sale_Type\n",
    "top_3 = [x for x in Ames['Sale_Type'].value_counts().sort_values(ascending=False).head(3).index]\n",
    "for label in top_3:\n",
    "    Ames[label] = np.where(Ames['Sale_Type']==label, 1, 0)\n",
    "\n",
    "Ames.drop(\"Sale_Type\", axis=1, inplace=True)\n",
    "nominal.remove(\"Sale_Type\")"
   ]
  },
  {
   "cell_type": "code",
   "execution_count": null,
   "metadata": {},
   "outputs": [],
   "source": [
    "# Sale_Condition\n",
    "top_3 = [x for x in Ames['Sale_Condition'].value_counts().sort_values(ascending=False).head(3).index]\n",
    "for label in top_3:\n",
    "    Ames[label] = np.where(Ames['Sale_Condition']==label, 1, 0)\n",
    "\n",
    "Ames.drop(\"Sale_Condition\", axis=1, inplace=True)\n",
    "nominal.remove(\"Sale_Condition\")\n",
    "\n",
    "Ames_preprocessed = pd.get_dummies(Ames)"
   ]
  },
  {
   "cell_type": "code",
   "execution_count": null,
   "metadata": {},
   "outputs": [],
   "source": [
    "def clip_outliers(variables):\n",
    "    for var in variables:\n",
    "        IQR = Ames[[var]].quantile(0.75) - Ames[[var]].quantile(0.25)\n",
    "        Lower_fence = float(Ames[[var]].quantile(0.25) - (IQR * 3))\n",
    "        Upper_fence = float(Ames[[var]].quantile(0.75) + (IQR * 3))\n",
    "        Ames[var].clip(Lower_fence, Upper_fence, inplace=True)\n",
    "    return Ames\n",
    "\n",
    "Ames=clip_outliers(continous+discrete)"
   ]
  },
  {
   "cell_type": "code",
   "execution_count": null,
   "metadata": {},
   "outputs": [],
   "source": [
    "def correlation(dataset, threshold):\n",
    "    col_corr = set()  # Set of all the names of correlated columns\n",
    "    corr_matrix = dataset.corr()\n",
    "    for i in range(len(corr_matrix.columns)):\n",
    "        for j in range(i):\n",
    "            if abs(corr_matrix.iloc[i, j]) > threshold: # we are interested in absolute coeff value\n",
    "                colname = corr_matrix.columns[i]  # getting the name of column\n",
    "                col_corr.add(colname)\n",
    "    return col_corr\n",
    "\n",
    "corr_features = correlation(Ames.drop([\"Sale_Price\"], axis=1), 0.7)\n",
    "Ames.drop(labels=corr_features, axis=1, inplace=True)"
   ]
  },
  {
   "cell_type": "code",
   "execution_count": null,
   "metadata": {},
   "outputs": [],
   "source": [
    "constant_features = [\n",
    "    feat for feat in Ames.columns if Ames[feat].std() <= 0.1\n",
    "]\n",
    "Ames.drop(labels=constant_features, axis=1, inplace=True)\n",
    "Ames=Ames.dropna()\n",
    "\n",
    "scaler = RobustScaler().fit(Ames.drop([\"Sale_Price\"], axis=1))"
   ]
  },
  {
   "cell_type": "code",
   "execution_count": null,
   "metadata": {},
   "outputs": [],
   "source": [
    "# Convert Sale_Price to log scale\n",
    "Ames['Log_Sale_Price'] = np.log1p(Ames['Sale_Price'])\n",
    "\n",
    "X = Ames.drop(['Sale_Price', 'Log_Sale_Price'], axis=1)\n",
    "y = Ames['Log_Sale_Price']\n",
    "# X_train, X_test, y_train, y_test = train_test_split(X, y, test_size=0.2, random_state=453111) "
   ]
  },
  {
   "cell_type": "code",
   "execution_count": null,
   "metadata": {},
   "outputs": [
    {
     "data": {
      "text/plain": [
       "Index(['PID', 'Lot_Frontage', 'Lot_Area', 'Lot_Shape', 'Land_Contour',\n",
       "       'Land_Slope', 'Overall_Qual', 'Overall_Cond', 'Year_Built',\n",
       "       'Year_Remod_Add', 'Mas_Vnr_Area', 'Exter_Qual', 'Exter_Cond',\n",
       "       'Bsmt_Qual', 'Bsmt_Cond', 'Bsmt_Exposure', 'BsmtFin_Type_1',\n",
       "       'BsmtFin_Type_2', 'Bsmt_Unf_SF', 'Heating_QC', 'First_Flr_SF',\n",
       "       'Second_Flr_SF', 'Bsmt_Full_Bath', 'Full_Bath', 'Bedroom_AbvGr',\n",
       "       'Kitchen_Qual', 'Functional', 'Fireplaces', 'Garage_Finish',\n",
       "       'Garage_Cars', 'Wood_Deck_SF', 'Open_Porch_SF', 'Fence', 'Misc_Val',\n",
       "       'Mo_Sold', 'Year_Sold', 'Split_or_Multilevel', 'Split_Foyer', 'Inside',\n",
       "       'Corner', 'CulDSac', 'Northwest_Ames', 'Gilbert', 'Sawyer_West',\n",
       "       'Edwards', 'College_Creek', 'Crawford', 'Mitchell', 'Norm', 'PosN',\n",
       "       'Gable', 'HdBoard', 'Wd Sdng', 'MetalSd', 'Plywood', 'BrkFace',\n",
       "       'BrkCmn', 'WD '],\n",
       "      dtype='object')"
      ]
     },
     "execution_count": 218,
     "metadata": {},
     "output_type": "execute_result"
    }
   ],
   "source": [
    "X_train.columns\n",
    "# print(X_train['Alley'].unique())\n",
    "# print(X_train['Street'].unique())\n"
   ]
  },
  {
   "cell_type": "code",
   "execution_count": null,
   "metadata": {},
   "outputs": [],
   "source": [
    "# y_train.head()"
   ]
  },
  {
   "cell_type": "code",
   "execution_count": null,
   "metadata": {},
   "outputs": [
    {
     "name": "stdout",
     "output_type": "stream",
     "text": [
      "Models and RMSE results saved.\n"
     ]
    }
   ],
   "source": [
    "import pandas as pd\n",
    "import numpy as np\n",
    "from sklearn.model_selection import RepeatedKFold\n",
    "from sklearn.metrics import mean_squared_error\n",
    "from sklearn.linear_model import LinearRegression, Ridge, Lasso\n",
    "from sklearn.tree import DecisionTreeRegressor\n",
    "from sklearn.ensemble import RandomForestRegressor, BaggingRegressor, AdaBoostRegressor\n",
    "import joblib\n",
    "import os\n",
    "\n",
    "# Load your data here\n",
    "# X, y = ...\n",
    "\n",
    "# Define models\n",
    "models = {\n",
    "    \"Linear Regression\": LinearRegression(),\n",
    "    \"Ridge\": Ridge(),\n",
    "    \"Lasso\": Lasso(),\n",
    "    \"Decision Tree\": DecisionTreeRegressor(),\n",
    "    \"Random Forest\": RandomForestRegressor(),\n",
    "    \"Bagging\": BaggingRegressor(),\n",
    "    \"AdaBoost\": AdaBoostRegressor()\n",
    "}\n",
    "\n",
    "# Setup cross-validation\n",
    "cv = RepeatedKFold(n_splits=10, n_repeats=3, random_state=1)\n",
    "\n",
    "# Directory to save models\n",
    "model_dir = \"../AmesDashboard/models\"\n",
    "os.makedirs(model_dir, exist_ok=True)\n",
    "\n",
    "# DataFrame to store RMSE\n",
    "rmse_results = []\n",
    "\n",
    "for name, model in models.items():\n",
    "    train_rmse_list = []\n",
    "    test_rmse_list = []\n",
    "    \n",
    "    for train_ix, test_ix in cv.split(X):\n",
    "        # Split data\n",
    "        X_train, X_test = X.iloc[train_ix], X.iloc[test_ix]\n",
    "        y_train, y_test = y.iloc[train_ix], y.iloc[test_ix]\n",
    "\n",
    "        # Fit model\n",
    "        model.fit(X_train, y_train)\n",
    "\n",
    "        # Evaluate model\n",
    "        y_train_pred = model.predict(X_train)\n",
    "        y_test_pred = model.predict(X_test)\n",
    "        train_rmse = np.sqrt(mean_squared_error(y_train, y_train_pred))\n",
    "        test_rmse = np.sqrt(mean_squared_error(y_test, y_test_pred))\n",
    "        train_rmse_list.append(train_rmse)\n",
    "        test_rmse_list.append(test_rmse)\n",
    "\n",
    "    # Average RMSE over all folds\n",
    "    avg_train_rmse = np.mean(train_rmse_list)\n",
    "    avg_test_rmse = np.mean(test_rmse_list)\n",
    "\n",
    "    # Save model\n",
    "    joblib_file = os.path.join(model_dir, f\"{name.replace(' ', '_')}.joblib\")\n",
    "    joblib.dump(model, joblib_file)\n",
    "    \n",
    "    # Append RMSE results\n",
    "    rmse_results.append({\"Model\": name, \"Train RMSE\": avg_train_rmse, \"Test RMSE\": avg_test_rmse})\n",
    "\n",
    "# Convert to DataFrame\n",
    "rmse_results_df = pd.DataFrame(rmse_results)\n",
    "\n",
    "# Save RMSE results to JSON\n",
    "rmse_file = os.path.join(model_dir, \"rmse_results.json\")\n",
    "rmse_results_df.to_json(rmse_file, orient='records')\n",
    "\n",
    "print(\"Models and RMSE results saved.\")\n"
   ]
  },
  {
   "cell_type": "code",
   "execution_count": null,
   "metadata": {},
   "outputs": [
    {
     "data": {
      "application/vnd.plotly.v1+json": {
       "config": {
        "plotlyServerURL": "https://plot.ly"
       },
       "data": [
        {
         "hovertemplate": "RMSE Type=Train RMSE<br>Model=%{x}<br>RMSE=%{y}<extra></extra>",
         "legendgroup": "Train RMSE",
         "line": {
          "color": "#636efa",
          "dash": "solid"
         },
         "marker": {
          "symbol": "circle"
         },
         "mode": "lines+markers",
         "name": "Train RMSE",
         "orientation": "v",
         "showlegend": true,
         "type": "scatter",
         "x": [
          "Linear Regression",
          "Ridge",
          "Lasso",
          "Decision Tree",
          "Random Forest",
          "Bagging",
          "AdaBoost"
         ],
         "xaxis": "x",
         "y": [
          0,
          0.063262806,
          0.0709715129,
          0,
          0.0522957768,
          0.0616858203,
          0.0231245941
         ],
         "yaxis": "y"
        },
        {
         "hovertemplate": "RMSE Type=Test RMSE<br>Model=%{x}<br>RMSE=%{y}<extra></extra>",
         "legendgroup": "Test RMSE",
         "line": {
          "color": "#EF553B",
          "dash": "solid"
         },
         "marker": {
          "symbol": "circle"
         },
         "mode": "lines+markers",
         "name": "Test RMSE",
         "orientation": "v",
         "showlegend": true,
         "type": "scatter",
         "x": [
          "Linear Regression",
          "Ridge",
          "Lasso",
          "Decision Tree",
          "Random Forest",
          "Bagging",
          "AdaBoost"
         ],
         "xaxis": "x",
         "y": [
          0.092127105,
          0.1443681203,
          0.12831105680000002,
          0.15360994660000002,
          0.1258071894,
          0.1350576573,
          0.130382474
         ],
         "yaxis": "y"
        }
       ],
       "layout": {
        "legend": {
         "orientation": "h",
         "title": {
          "text": "RMSE Type"
         },
         "tracegroupgap": 0,
         "x": 1,
         "xanchor": "right",
         "y": 1.02,
         "yanchor": "bottom"
        },
        "template": {
         "data": {
          "bar": [
           {
            "error_x": {
             "color": "#2a3f5f"
            },
            "error_y": {
             "color": "#2a3f5f"
            },
            "marker": {
             "line": {
              "color": "#E5ECF6",
              "width": 0.5
             },
             "pattern": {
              "fillmode": "overlay",
              "size": 10,
              "solidity": 0.2
             }
            },
            "type": "bar"
           }
          ],
          "barpolar": [
           {
            "marker": {
             "line": {
              "color": "#E5ECF6",
              "width": 0.5
             },
             "pattern": {
              "fillmode": "overlay",
              "size": 10,
              "solidity": 0.2
             }
            },
            "type": "barpolar"
           }
          ],
          "carpet": [
           {
            "aaxis": {
             "endlinecolor": "#2a3f5f",
             "gridcolor": "white",
             "linecolor": "white",
             "minorgridcolor": "white",
             "startlinecolor": "#2a3f5f"
            },
            "baxis": {
             "endlinecolor": "#2a3f5f",
             "gridcolor": "white",
             "linecolor": "white",
             "minorgridcolor": "white",
             "startlinecolor": "#2a3f5f"
            },
            "type": "carpet"
           }
          ],
          "choropleth": [
           {
            "colorbar": {
             "outlinewidth": 0,
             "ticks": ""
            },
            "type": "choropleth"
           }
          ],
          "contour": [
           {
            "colorbar": {
             "outlinewidth": 0,
             "ticks": ""
            },
            "colorscale": [
             [
              0,
              "#0d0887"
             ],
             [
              0.1111111111111111,
              "#46039f"
             ],
             [
              0.2222222222222222,
              "#7201a8"
             ],
             [
              0.3333333333333333,
              "#9c179e"
             ],
             [
              0.4444444444444444,
              "#bd3786"
             ],
             [
              0.5555555555555556,
              "#d8576b"
             ],
             [
              0.6666666666666666,
              "#ed7953"
             ],
             [
              0.7777777777777778,
              "#fb9f3a"
             ],
             [
              0.8888888888888888,
              "#fdca26"
             ],
             [
              1,
              "#f0f921"
             ]
            ],
            "type": "contour"
           }
          ],
          "contourcarpet": [
           {
            "colorbar": {
             "outlinewidth": 0,
             "ticks": ""
            },
            "type": "contourcarpet"
           }
          ],
          "heatmap": [
           {
            "colorbar": {
             "outlinewidth": 0,
             "ticks": ""
            },
            "colorscale": [
             [
              0,
              "#0d0887"
             ],
             [
              0.1111111111111111,
              "#46039f"
             ],
             [
              0.2222222222222222,
              "#7201a8"
             ],
             [
              0.3333333333333333,
              "#9c179e"
             ],
             [
              0.4444444444444444,
              "#bd3786"
             ],
             [
              0.5555555555555556,
              "#d8576b"
             ],
             [
              0.6666666666666666,
              "#ed7953"
             ],
             [
              0.7777777777777778,
              "#fb9f3a"
             ],
             [
              0.8888888888888888,
              "#fdca26"
             ],
             [
              1,
              "#f0f921"
             ]
            ],
            "type": "heatmap"
           }
          ],
          "heatmapgl": [
           {
            "colorbar": {
             "outlinewidth": 0,
             "ticks": ""
            },
            "colorscale": [
             [
              0,
              "#0d0887"
             ],
             [
              0.1111111111111111,
              "#46039f"
             ],
             [
              0.2222222222222222,
              "#7201a8"
             ],
             [
              0.3333333333333333,
              "#9c179e"
             ],
             [
              0.4444444444444444,
              "#bd3786"
             ],
             [
              0.5555555555555556,
              "#d8576b"
             ],
             [
              0.6666666666666666,
              "#ed7953"
             ],
             [
              0.7777777777777778,
              "#fb9f3a"
             ],
             [
              0.8888888888888888,
              "#fdca26"
             ],
             [
              1,
              "#f0f921"
             ]
            ],
            "type": "heatmapgl"
           }
          ],
          "histogram": [
           {
            "marker": {
             "pattern": {
              "fillmode": "overlay",
              "size": 10,
              "solidity": 0.2
             }
            },
            "type": "histogram"
           }
          ],
          "histogram2d": [
           {
            "colorbar": {
             "outlinewidth": 0,
             "ticks": ""
            },
            "colorscale": [
             [
              0,
              "#0d0887"
             ],
             [
              0.1111111111111111,
              "#46039f"
             ],
             [
              0.2222222222222222,
              "#7201a8"
             ],
             [
              0.3333333333333333,
              "#9c179e"
             ],
             [
              0.4444444444444444,
              "#bd3786"
             ],
             [
              0.5555555555555556,
              "#d8576b"
             ],
             [
              0.6666666666666666,
              "#ed7953"
             ],
             [
              0.7777777777777778,
              "#fb9f3a"
             ],
             [
              0.8888888888888888,
              "#fdca26"
             ],
             [
              1,
              "#f0f921"
             ]
            ],
            "type": "histogram2d"
           }
          ],
          "histogram2dcontour": [
           {
            "colorbar": {
             "outlinewidth": 0,
             "ticks": ""
            },
            "colorscale": [
             [
              0,
              "#0d0887"
             ],
             [
              0.1111111111111111,
              "#46039f"
             ],
             [
              0.2222222222222222,
              "#7201a8"
             ],
             [
              0.3333333333333333,
              "#9c179e"
             ],
             [
              0.4444444444444444,
              "#bd3786"
             ],
             [
              0.5555555555555556,
              "#d8576b"
             ],
             [
              0.6666666666666666,
              "#ed7953"
             ],
             [
              0.7777777777777778,
              "#fb9f3a"
             ],
             [
              0.8888888888888888,
              "#fdca26"
             ],
             [
              1,
              "#f0f921"
             ]
            ],
            "type": "histogram2dcontour"
           }
          ],
          "mesh3d": [
           {
            "colorbar": {
             "outlinewidth": 0,
             "ticks": ""
            },
            "type": "mesh3d"
           }
          ],
          "parcoords": [
           {
            "line": {
             "colorbar": {
              "outlinewidth": 0,
              "ticks": ""
             }
            },
            "type": "parcoords"
           }
          ],
          "pie": [
           {
            "automargin": true,
            "type": "pie"
           }
          ],
          "scatter": [
           {
            "fillpattern": {
             "fillmode": "overlay",
             "size": 10,
             "solidity": 0.2
            },
            "type": "scatter"
           }
          ],
          "scatter3d": [
           {
            "line": {
             "colorbar": {
              "outlinewidth": 0,
              "ticks": ""
             }
            },
            "marker": {
             "colorbar": {
              "outlinewidth": 0,
              "ticks": ""
             }
            },
            "type": "scatter3d"
           }
          ],
          "scattercarpet": [
           {
            "marker": {
             "colorbar": {
              "outlinewidth": 0,
              "ticks": ""
             }
            },
            "type": "scattercarpet"
           }
          ],
          "scattergeo": [
           {
            "marker": {
             "colorbar": {
              "outlinewidth": 0,
              "ticks": ""
             }
            },
            "type": "scattergeo"
           }
          ],
          "scattergl": [
           {
            "marker": {
             "colorbar": {
              "outlinewidth": 0,
              "ticks": ""
             }
            },
            "type": "scattergl"
           }
          ],
          "scattermapbox": [
           {
            "marker": {
             "colorbar": {
              "outlinewidth": 0,
              "ticks": ""
             }
            },
            "type": "scattermapbox"
           }
          ],
          "scatterpolar": [
           {
            "marker": {
             "colorbar": {
              "outlinewidth": 0,
              "ticks": ""
             }
            },
            "type": "scatterpolar"
           }
          ],
          "scatterpolargl": [
           {
            "marker": {
             "colorbar": {
              "outlinewidth": 0,
              "ticks": ""
             }
            },
            "type": "scatterpolargl"
           }
          ],
          "scatterternary": [
           {
            "marker": {
             "colorbar": {
              "outlinewidth": 0,
              "ticks": ""
             }
            },
            "type": "scatterternary"
           }
          ],
          "surface": [
           {
            "colorbar": {
             "outlinewidth": 0,
             "ticks": ""
            },
            "colorscale": [
             [
              0,
              "#0d0887"
             ],
             [
              0.1111111111111111,
              "#46039f"
             ],
             [
              0.2222222222222222,
              "#7201a8"
             ],
             [
              0.3333333333333333,
              "#9c179e"
             ],
             [
              0.4444444444444444,
              "#bd3786"
             ],
             [
              0.5555555555555556,
              "#d8576b"
             ],
             [
              0.6666666666666666,
              "#ed7953"
             ],
             [
              0.7777777777777778,
              "#fb9f3a"
             ],
             [
              0.8888888888888888,
              "#fdca26"
             ],
             [
              1,
              "#f0f921"
             ]
            ],
            "type": "surface"
           }
          ],
          "table": [
           {
            "cells": {
             "fill": {
              "color": "#EBF0F8"
             },
             "line": {
              "color": "white"
             }
            },
            "header": {
             "fill": {
              "color": "#C8D4E3"
             },
             "line": {
              "color": "white"
             }
            },
            "type": "table"
           }
          ]
         },
         "layout": {
          "annotationdefaults": {
           "arrowcolor": "#2a3f5f",
           "arrowhead": 0,
           "arrowwidth": 1
          },
          "autotypenumbers": "strict",
          "coloraxis": {
           "colorbar": {
            "outlinewidth": 0,
            "ticks": ""
           }
          },
          "colorscale": {
           "diverging": [
            [
             0,
             "#8e0152"
            ],
            [
             0.1,
             "#c51b7d"
            ],
            [
             0.2,
             "#de77ae"
            ],
            [
             0.3,
             "#f1b6da"
            ],
            [
             0.4,
             "#fde0ef"
            ],
            [
             0.5,
             "#f7f7f7"
            ],
            [
             0.6,
             "#e6f5d0"
            ],
            [
             0.7,
             "#b8e186"
            ],
            [
             0.8,
             "#7fbc41"
            ],
            [
             0.9,
             "#4d9221"
            ],
            [
             1,
             "#276419"
            ]
           ],
           "sequential": [
            [
             0,
             "#0d0887"
            ],
            [
             0.1111111111111111,
             "#46039f"
            ],
            [
             0.2222222222222222,
             "#7201a8"
            ],
            [
             0.3333333333333333,
             "#9c179e"
            ],
            [
             0.4444444444444444,
             "#bd3786"
            ],
            [
             0.5555555555555556,
             "#d8576b"
            ],
            [
             0.6666666666666666,
             "#ed7953"
            ],
            [
             0.7777777777777778,
             "#fb9f3a"
            ],
            [
             0.8888888888888888,
             "#fdca26"
            ],
            [
             1,
             "#f0f921"
            ]
           ],
           "sequentialminus": [
            [
             0,
             "#0d0887"
            ],
            [
             0.1111111111111111,
             "#46039f"
            ],
            [
             0.2222222222222222,
             "#7201a8"
            ],
            [
             0.3333333333333333,
             "#9c179e"
            ],
            [
             0.4444444444444444,
             "#bd3786"
            ],
            [
             0.5555555555555556,
             "#d8576b"
            ],
            [
             0.6666666666666666,
             "#ed7953"
            ],
            [
             0.7777777777777778,
             "#fb9f3a"
            ],
            [
             0.8888888888888888,
             "#fdca26"
            ],
            [
             1,
             "#f0f921"
            ]
           ]
          },
          "colorway": [
           "#636efa",
           "#EF553B",
           "#00cc96",
           "#ab63fa",
           "#FFA15A",
           "#19d3f3",
           "#FF6692",
           "#B6E880",
           "#FF97FF",
           "#FECB52"
          ],
          "font": {
           "color": "#2a3f5f"
          },
          "geo": {
           "bgcolor": "white",
           "lakecolor": "white",
           "landcolor": "#E5ECF6",
           "showlakes": true,
           "showland": true,
           "subunitcolor": "white"
          },
          "hoverlabel": {
           "align": "left"
          },
          "hovermode": "closest",
          "mapbox": {
           "style": "light"
          },
          "paper_bgcolor": "white",
          "plot_bgcolor": "#E5ECF6",
          "polar": {
           "angularaxis": {
            "gridcolor": "white",
            "linecolor": "white",
            "ticks": ""
           },
           "bgcolor": "#E5ECF6",
           "radialaxis": {
            "gridcolor": "white",
            "linecolor": "white",
            "ticks": ""
           }
          },
          "scene": {
           "xaxis": {
            "backgroundcolor": "#E5ECF6",
            "gridcolor": "white",
            "gridwidth": 2,
            "linecolor": "white",
            "showbackground": true,
            "ticks": "",
            "zerolinecolor": "white"
           },
           "yaxis": {
            "backgroundcolor": "#E5ECF6",
            "gridcolor": "white",
            "gridwidth": 2,
            "linecolor": "white",
            "showbackground": true,
            "ticks": "",
            "zerolinecolor": "white"
           },
           "zaxis": {
            "backgroundcolor": "#E5ECF6",
            "gridcolor": "white",
            "gridwidth": 2,
            "linecolor": "white",
            "showbackground": true,
            "ticks": "",
            "zerolinecolor": "white"
           }
          },
          "shapedefaults": {
           "line": {
            "color": "#2a3f5f"
           }
          },
          "ternary": {
           "aaxis": {
            "gridcolor": "white",
            "linecolor": "white",
            "ticks": ""
           },
           "baxis": {
            "gridcolor": "white",
            "linecolor": "white",
            "ticks": ""
           },
           "bgcolor": "#E5ECF6",
           "caxis": {
            "gridcolor": "white",
            "linecolor": "white",
            "ticks": ""
           }
          },
          "title": {
           "x": 0.05
          },
          "xaxis": {
           "automargin": true,
           "gridcolor": "white",
           "linecolor": "white",
           "ticks": "",
           "title": {
            "standoff": 15
           },
           "zerolinecolor": "white",
           "zerolinewidth": 2
          },
          "yaxis": {
           "automargin": true,
           "gridcolor": "white",
           "linecolor": "white",
           "ticks": "",
           "title": {
            "standoff": 15
           },
           "zerolinecolor": "white",
           "zerolinewidth": 2
          }
         }
        },
        "title": {
         "text": "RMSE Results for Different Models"
        },
        "xaxis": {
         "anchor": "y",
         "domain": [
          0,
          1
         ],
         "title": {
          "text": "Model"
         }
        },
        "yaxis": {
         "anchor": "x",
         "domain": [
          0,
          1
         ],
         "title": {
          "text": "RMSE"
         }
        }
       }
      }
     },
     "metadata": {},
     "output_type": "display_data"
    }
   ],
   "source": [
    "import pandas as pd\n",
    "import plotly.express as px\n",
    "\n",
    "# Load RMSE results from the JSON file\n",
    "json_file = \"../AmesDashboard/models/rmse_results.json\"  # Adjust the path if needed\n",
    "rmse_results_df = pd.read_json(json_file)\n",
    "\n",
    "# Reshape the DataFrame for easier plotting with Plotly\n",
    "rmse_melted = rmse_results_df.melt(id_vars=['Model'], \n",
    "                                   value_vars=['Train RMSE', 'Test RMSE'], \n",
    "                                   var_name='RMSE Type', value_name='RMSE')\n",
    "\n",
    "# Plot using Plotly\n",
    "fig = px.line(rmse_melted, x='Model', y='RMSE', color='RMSE Type',\n",
    "              markers=True, title='RMSE Results for Different Models')\n",
    "\n",
    "fig.update_layout(xaxis_title='Model',\n",
    "                  yaxis_title='RMSE',\n",
    "                  legend_title='RMSE Type',\n",
    "                  legend=dict(orientation=\"h\", yanchor=\"bottom\", y=1.02, xanchor=\"right\", x=1))\n",
    "\n",
    "fig.show()\n"
   ]
  }
 ],
 "metadata": {
  "kernelspec": {
   "display_name": "venv",
   "language": "python",
   "name": "python3"
  },
  "language_info": {
   "codemirror_mode": {
    "name": "ipython",
    "version": 3
   },
   "file_extension": ".py",
   "mimetype": "text/x-python",
   "name": "python",
   "nbconvert_exporter": "python",
   "pygments_lexer": "ipython3",
   "version": "3.11.6"
  }
 },
 "nbformat": 4,
 "nbformat_minor": 2
}
